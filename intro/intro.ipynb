{
 "cells": [
  {
   "cell_type": "code",
   "execution_count": 1,
   "metadata": {
    "collapsed": false,
    "slideshow": {
     "slide_type": "skip"
    }
   },
   "outputs": [
    {
     "name": "stdout",
     "output_type": "stream",
     "text": [
      "Populating the interactive namespace from numpy and matplotlib\n"
     ]
    }
   ],
   "source": [
    "%pylab inline"
   ]
  },
  {
   "cell_type": "markdown",
   "metadata": {
    "slideshow": {
     "slide_type": "slide"
    }
   },
   "source": [
    "## Introduction to TensorFlow"
   ]
  },
  {
   "cell_type": "markdown",
   "metadata": {
    "slideshow": {
     "slide_type": "slide"
    }
   },
   "source": [
    "## Hello World in TensorFlow"
   ]
  },
  {
   "cell_type": "markdown",
   "metadata": {
    "slideshow": {
     "slide_type": "fragment"
    }
   },
   "source": [
    "* Import the TensorFlow library\n",
    "```python\n",
    "import tensorflow as tf\n",
    "```"
   ]
  },
  {
   "cell_type": "markdown",
   "metadata": {
    "slideshow": {
     "slide_type": "fragment"
    }
   },
   "source": [
    "* Create a session with TensorFlow's run time\n",
    "```python\n",
    "with tf.Session('') as sess:\n",
    "```"
   ]
  },
  {
   "cell_type": "markdown",
   "metadata": {
    "slideshow": {
     "slide_type": "fragment"
    }
   },
   "source": [
    "* Create some operations\n",
    "```python\n",
    "  c = tf.constant('Hello, world!')\n",
    "```"
   ]
  },
  {
   "cell_type": "markdown",
   "metadata": {
    "slideshow": {
     "slide_type": "fragment"
    }
   },
   "source": [
    "* Run the operations\n",
    "```python\n",
    "print(sess.run(c))\n",
    "```"
   ]
  },
  {
   "cell_type": "code",
   "execution_count": 3,
   "metadata": {
    "collapsed": false,
    "slideshow": {
     "slide_type": "slide"
    }
   },
   "outputs": [
    {
     "name": "stdout",
     "output_type": "stream",
     "text": [
      "Hello, world!\n"
     ]
    }
   ],
   "source": [
    "import tensorflow as tf\n",
    "with tf.Session('') as sess:\n",
    "    c = tf.constant('Hello, world!')\n",
    "    print(sess.run(c))"
   ]
  },
  {
   "cell_type": "markdown",
   "metadata": {
    "slideshow": {
     "slide_type": "slide"
    }
   },
   "source": [
    "### InteractiveSession\n",
    "* `with tf.Session(''):` is cumbersome in a REPL, for instance.\n",
    "* Use `tf.InteractiveSession()`\n",
    "```python\n",
    "sess = tf.InteractiveSession()\n",
    "```"
   ]
  },
  {
   "cell_type": "code",
   "execution_count": 4,
   "metadata": {
    "collapsed": false,
    "slideshow": {
     "slide_type": "skip"
    }
   },
   "outputs": [],
   "source": [
    "sess = tf.InteractiveSession()"
   ]
  },
  {
   "cell_type": "markdown",
   "metadata": {
    "slideshow": {
     "slide_type": "slide"
    }
   },
   "source": [
    "### Constants\n",
    "```python\n",
    "# float vector\n",
    "a = tf.constant([1.0, 2.0, 3.0, 4.0])\n",
    "# int32 vector\n",
    "b = tf.constant([5, 6, 7, 8])\n",
    "# int32 2x2 matrix\n",
    "c = tf.constant([5, 6, 7, 8], shape=[2, 2])\n",
    "# int32 2x2 matrix\n",
    "d = tf.constant([[5, 6], [7, 8]])\n",
    "# int32 2x2x1 matrix\n",
    "e = tf.constant([[[5], [6]], [[7], [8]]])\n",
    "```\n",
    "### Types\n",
    "* Integer types\n",
    "  - tf.int32, tf.int64, ...\n",
    "* Floating point types\n",
    "  - tf.float32, tf.float64, tf.complex64, ..\n",
    "* Other\n",
    "  - tf.bool, tf.string"
   ]
  },
  {
   "cell_type": "markdown",
   "metadata": {
    "slideshow": {
     "slide_type": "slide"
    }
   },
   "source": [
    "### Constants from numpy arrays"
   ]
  },
  {
   "cell_type": "code",
   "execution_count": 6,
   "metadata": {
    "collapsed": false
   },
   "outputs": [
    {
     "name": "stdout",
     "output_type": "stream",
     "text": [
      "[[[ 0.24103464  0.21411158]\n",
      "  [ 0.03174632  0.53075607]]\n",
      "\n",
      " [[ 0.83037872  0.39287798]\n",
      "  [ 0.22634572  0.95331118]]]\n"
     ]
    }
   ],
   "source": [
    "c = tf.constant(random.rand(2, 2, 2))\n",
    "print(sess.run(c))"
   ]
  },
  {
   "cell_type": "markdown",
   "metadata": {
    "slideshow": {
     "slide_type": "slide"
    }
   },
   "source": [
    "### Expressions"
   ]
  },
  {
   "cell_type": "code",
   "execution_count": 7,
   "metadata": {
    "collapsed": false
   },
   "outputs": [
    {
     "name": "stdout",
     "output_type": "stream",
     "text": [
      "[[ 72  84]\n",
      " [ 98 114]]\n"
     ]
    }
   ],
   "source": [
    "x = tf.constant([[5, 6], [7, 8]])\n",
    "z = tf.matmul(x, x) + tf.matmul(x, [[1, 0], [0, 1]])\n",
    "# eval() method on expressions is a shorthand for sess.run\n",
    "print(z.eval())  # sess.run(z)"
   ]
  },
  {
   "cell_type": "markdown",
   "metadata": {},
   "source": [
    "![Graph](data/expression.png)"
   ]
  },
  {
   "cell_type": "markdown",
   "metadata": {
    "slideshow": {
     "slide_type": "slide"
    }
   },
   "source": [
    "### Common math functions\n",
    "* Unary element-wise\n",
    "```python\n",
    "  tf.exp, tf.log, tf.neg, ...\n",
    "```\n",
    "* Binary element-wise\n",
    "```python\n",
    "  tf.add, tf.sub, tf.mul, tf.div, ...\n",
    "```"
   ]
  },
  {
   "cell_type": "code",
   "execution_count": 7,
   "metadata": {
    "collapsed": false
   },
   "outputs": [
    {
     "data": {
      "text/plain": [
       "3.4212296"
      ]
     },
     "execution_count": 7,
     "metadata": {},
     "output_type": "execute_result"
    }
   ],
   "source": [
    "tf.exp(1.23).eval()"
   ]
  },
  {
   "cell_type": "code",
   "execution_count": 21,
   "metadata": {
    "collapsed": false
   },
   "outputs": [
    {
     "name": "stdout",
     "output_type": "stream",
     "text": [
      "3\n",
      "[[ 11.  22.  33.]\n",
      " [ 14.  25.  36.]]\n",
      "[[ 11.  12.  13.]\n",
      " [ 24.  25.  26.]]\n"
     ]
    }
   ],
   "source": [
    "print(tf.add(1, 2).eval())\n",
    "\n",
    "# Broadcasting\n",
    "print(tf.add([[1., 2, 3], [4, 5, 6]], [10, 20, 30]).eval())  # 2x2 matrix + 2 vector\n",
    "print(tf.add([[1., 2, 3], [4, 5, 6]], [[10], [20]]).eval())  # 2x2 matrix + 2 vector"
   ]
  },
  {
   "cell_type": "markdown",
   "metadata": {
    "slideshow": {
     "slide_type": "slide"
    }
   },
   "source": [
    "  * Reduction\n",
    "  ```python\n",
    "  tf.reduce_sum, tf.reduce_mean, ...\n",
    "  ```"
   ]
  },
  {
   "cell_type": "code",
   "execution_count": 33,
   "metadata": {
    "collapsed": false,
    "slideshow": {
     "slide_type": "-"
    }
   },
   "outputs": [
    {
     "name": "stdout",
     "output_type": "stream",
     "text": [
      "[[ 1.  2.  3.]\n",
      " [ 4.  5.  6.]]\n",
      "[ 5.  7.  9.]\n",
      "[  6.  15.]\n",
      "21.0\n"
     ]
    }
   ],
   "source": [
    "x = tf.constant([[1., 2, 3], [4, 5, 6]])\n",
    "print(x.eval())\n",
    "print(tf.reduce_sum(x, reduction_indices=[0]).eval())\n",
    "print(tf.reduce_sum(x, reduction_indices=[1]).eval())\n",
    "print(tf.reduce_sum(x).eval())"
   ]
  },
  {
   "cell_type": "markdown",
   "metadata": {
    "slideshow": {
     "slide_type": "slide"
    }
   },
   "source": [
    "* Rest of TensorFlow built as libraries on top of these primitives\n",
    "* `tf.nn` library\n",
    "  - Neural network related functions - `softmax`, `relu`, `conv2d`\n",
    "* `tf.image` library\n",
    "  - Image processing functions - `crop`, `adjust_brightness`\n",
    "* `tf.train` - Neural net training related functions\n",
    "  - `GradientDescentOptimizer`, `exponential_decay`"
   ]
  },
  {
   "cell_type": "markdown",
   "metadata": {},
   "source": [
    "E.g.,\n",
    "$$(y_0, y_1, ..., y_n) = softmax(x_0, x_1, ..., x_n)$$\n",
    "\n",
    "$$ y_i = \\frac{e^{x_i}}{\\sum_i{e^{x_j}}}$$"
   ]
  },
  {
   "cell_type": "code",
   "execution_count": 56,
   "metadata": {
    "collapsed": false,
    "scrolled": true
   },
   "outputs": [
    {
     "name": "stdout",
     "output_type": "stream",
     "text": [
      "[[ -1.   0.   1.]\n",
      " [  1.   2.   3.]\n",
      " [ 10.  20.  30.]]\n",
      "[[  9.00305733e-02   2.44728476e-01   6.65240943e-01]\n",
      " [  9.00305733e-02   2.44728476e-01   6.65240943e-01]\n",
      " [  2.06105999e-09   4.53978682e-05   9.99954581e-01]]\n"
     ]
    }
   ],
   "source": [
    "logits = tf.constant([[-1., 0, 1], [1, 2, 3], [10, 20, 30]])\n",
    "print(logits.eval())\n",
    "print(tf.nn.softmax(logits).eval())"
   ]
  },
  {
   "cell_type": "code",
   "execution_count": 60,
   "metadata": {
    "collapsed": false,
    "slideshow": {
     "slide_type": "slide"
    }
   },
   "outputs": [
    {
     "name": "stdout",
     "output_type": "stream",
     "text": [
      "[[ 1.  0.  0.]\n",
      " [ 0.  0.  1.]\n",
      " [ 0.  1.  0.]]\n"
     ]
    }
   ],
   "source": [
    "labels = [0, 2, 1]\n",
    "print(tf.one_hot(labels, 3, 1., 0.).eval())"
   ]
  },
  {
   "cell_type": "code",
   "execution_count": 64,
   "metadata": {
    "collapsed": false
   },
   "outputs": [
    {
     "name": "stdout",
     "output_type": "stream",
     "text": [
      "[[  2.40760589   0.           0.        ]\n",
      " [  0.           0.           0.40760601]\n",
      " [  0.          10.00004578   0.        ]]\n",
      "[  2.40760589   0.40760601  10.00004578]\n",
      "4.27175\n"
     ]
    }
   ],
   "source": [
    "qlogp = - tf.log(tf.nn.softmax(logits)) * tf.one_hot(labels, 3, 1., 0.)\n",
    "print(qlogp.eval())\n",
    "per_example_loss = tf.reduce_sum(qlogp, [1])\n",
    "print(per_example_loss.eval())\n",
    "loss = tf.reduce_mean(per_example_loss)\n",
    "print(loss.eval())"
   ]
  },
  {
   "cell_type": "code",
   "execution_count": 65,
   "metadata": {
    "collapsed": false,
    "slideshow": {
     "slide_type": "fragment"
    }
   },
   "outputs": [
    {
     "name": "stdout",
     "output_type": "stream",
     "text": [
      "4.27175\n"
     ]
    }
   ],
   "source": [
    "per_example_loss = tf.nn.sparse_softmax_cross_entropy_with_logits(logits, labels)\n",
    "print(loss.eval())"
   ]
  },
  {
   "cell_type": "markdown",
   "metadata": {
    "slideshow": {
     "slide_type": "slide"
    }
   },
   "source": [
    "### Variables\n",
    "* Primary mechanism for \"State\" in TensorFlow"
   ]
  },
  {
   "cell_type": "code",
   "execution_count": 8,
   "metadata": {
    "collapsed": true,
    "slideshow": {
     "slide_type": "fragment"
    }
   },
   "outputs": [],
   "source": [
    "# Create a variable with some initial value\n",
    "v = tf.Variable([[1.0, 2.0], [3.0, 5.0]])"
   ]
  },
  {
   "cell_type": "code",
   "execution_count": 9,
   "metadata": {
    "collapsed": true,
    "slideshow": {
     "slide_type": "fragment"
    }
   },
   "outputs": [],
   "source": [
    "# Get an operation that when run, initializes all variables\n",
    "# declared so far\n",
    "init = tf.initialize_all_variables()"
   ]
  },
  {
   "cell_type": "code",
   "execution_count": 10,
   "metadata": {
    "collapsed": false,
    "slideshow": {
     "slide_type": "fragment"
    }
   },
   "outputs": [
    {
     "name": "stdout",
     "output_type": "stream",
     "text": [
      "[[ 1.  2.]\n",
      " [ 3.  5.]]\n"
     ]
    }
   ],
   "source": [
    "# Initialize the variables\n",
    "init.run()\n",
    "# Inspect the variables\n",
    "print(v.eval())"
   ]
  },
  {
   "cell_type": "code",
   "execution_count": 17,
   "metadata": {
    "collapsed": false,
    "slideshow": {
     "slide_type": "fragment"
    }
   },
   "outputs": [],
   "source": [
    "# Assign a new value to the variable\n",
    "assign_v = v.assign(random.rand(2, 2))"
   ]
  },
  {
   "cell_type": "code",
   "execution_count": 18,
   "metadata": {
    "collapsed": false,
    "slideshow": {
     "slide_type": "fragment"
    }
   },
   "outputs": [
    {
     "name": "stdout",
     "output_type": "stream",
     "text": [
      "[[ 0.28583112  0.93428499]\n",
      " [ 0.33675203  0.75247449]]\n"
     ]
    }
   ],
   "source": [
    "# Perform the assignment and inspect the new value\n",
    "sess.run(assign_v)\n",
    "print(v.eval())"
   ]
  },
  {
   "cell_type": "markdown",
   "metadata": {
    "slideshow": {
     "slide_type": "slide"
    }
   },
   "source": [
    "### Gradient\n",
    "  * Automatic symbolic differentiation. \n",
    "  * Very useful for gradient-base learning algorithm."
   ]
  },
  {
   "cell_type": "code",
   "execution_count": 72,
   "metadata": {
    "collapsed": false
   },
   "outputs": [
    {
     "name": "stdout",
     "output_type": "stream",
     "text": [
      "[  6.   3.   6.  15.]\n"
     ]
    }
   ],
   "source": [
    "x = tf.placeholder(tf.float32)\n",
    "y = x * x * x + 3 * x + 4  # y = x^3 + 3x + 4\n",
    "dy, = tf.gradients(y, x)    # dy/dx = 3 * x^2 + 3\n",
    "\n",
    "print(dy.eval(feed_dict={x:[-1, 0, 1, 2]}))"
   ]
  }
 ],
 "metadata": {
  "celltoolbar": "Slideshow",
  "kernelspec": {
   "display_name": "Python 2",
   "language": "python",
   "name": "python2"
  },
  "language_info": {
   "codemirror_mode": {
    "name": "ipython",
    "version": 2
   },
   "file_extension": ".py",
   "mimetype": "text/x-python",
   "name": "python",
   "nbconvert_exporter": "python",
   "pygments_lexer": "ipython2",
   "version": "2.7.10"
  }
 },
 "nbformat": 4,
 "nbformat_minor": 0
}
